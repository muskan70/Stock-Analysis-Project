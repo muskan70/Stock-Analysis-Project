{
 "cells": [
  {
   "cell_type": "code",
   "execution_count": 33,
   "metadata": {},
   "outputs": [
    {
     "name": "stdout",
     "output_type": "stream",
     "text": [
      "You selected item 5: \"BOM500012\"\n",
      "You selected item 1: \"BOM500003\"\n",
      "You selected item 7: \"BOM500020\"\n"
     ]
    },
    {
     "data": {
      "text/plain": [
       "<__main__.bsewindow at 0x212c6cd3710>"
      ]
     },
     "execution_count": 33,
     "metadata": {},
     "output_type": "execute_result"
    }
   ],
   "source": [
    "import tkinter as tk\n",
    "from tkinter import *\n",
    "import pandas as pd\n",
    "\n",
    "class bsewindow:\n",
    "    def __init__(self):\n",
    "        bse=tk.Tk()\n",
    "        self.master=bse\n",
    "        bse.title(\"BSE Stocks\")\n",
    "        bse.geometry(\"200x200\")\n",
    "        l=Label(self.master,text=\"Name of Stocks\")\n",
    "        l.pack(fill=BOTH)\n",
    "        data=self.extractstocks()\n",
    "        self.createbutton(data)\n",
    "        bse.mainloop()\n",
    "        \n",
    "    def extractstocks(self):\n",
    "        data=pd.read_excel('BSEcodes.xlsx')\n",
    "        return data['Codes']\n",
    "    \n",
    "    def createbutton(self,data):\n",
    "        scrollbar = Scrollbar(self.master)\n",
    "        scrollbar.pack( side = RIGHT, fill = Y )\n",
    "        \n",
    "        def onselect(evt):\n",
    "            w = evt.widget\n",
    "            index = int(w.curselection()[0])\n",
    "            value = w.get(index)\n",
    "            print ('You selected item %d: \"%s\"' % (index, value))\n",
    "\n",
    "        mylist = Listbox(self.master, yscrollcommand = scrollbar.set )\n",
    "        for i in data:\n",
    "            s=i.split('/')[1]\n",
    "            mylist.insert(END,s)\n",
    "        mylist.pack(fill=BOTH)\n",
    "        scrollbar.config( command = mylist.yview )   \n",
    "        \n",
    "        mylist.bind('<<ListboxSelect>>', onselect)\n",
    "            \n",
    "    \n",
    "window=bsewindow()\n",
    "window"
   ]
  },
  {
   "cell_type": "code",
   "execution_count": null,
   "metadata": {},
   "outputs": [],
   "source": []
  }
 ],
 "metadata": {
  "kernelspec": {
   "display_name": "Python [default]",
   "language": "python",
   "name": "python3"
  },
  "language_info": {
   "codemirror_mode": {
    "name": "ipython",
    "version": 3
   },
   "file_extension": ".py",
   "mimetype": "text/x-python",
   "name": "python",
   "nbconvert_exporter": "python",
   "pygments_lexer": "ipython3",
   "version": "3.6.4"
  }
 },
 "nbformat": 4,
 "nbformat_minor": 2
}
