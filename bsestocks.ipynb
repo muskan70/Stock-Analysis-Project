{
 "cells": [
  {
   "cell_type": "code",
   "execution_count": 9,
   "metadata": {},
   "outputs": [
    {
     "data": {
      "text/plain": [
       "<__main__.stockwindow at 0x21406f87eb8>"
      ]
     },
     "execution_count": 9,
     "metadata": {},
     "output_type": "execute_result"
    }
   ],
   "source": [
    "import tkinter as tk\n",
    "from tkinter import *\n",
    "import pandas as pd\n",
    "from stockextract import analysis\n",
    "\n",
    "class stockwindow:\n",
    "    def __init__(self,type):\n",
    "        stocklist=tk.Tk()\n",
    "        self.master=stocklist\n",
    "        self.type=type\n",
    "        if(self.type==1):\n",
    "            self.filename='NSEcodes.xlsx'\n",
    "        elif(self.type==2):\n",
    "            self.filename='BSEcodes.xlsx'\n",
    "        stocklist.title(\"List of Stocks\")\n",
    "        stocklist.geometry(\"300x250\")\n",
    "        l=Label(self.master,text=\"Name of Stocks\")\n",
    "        l.pack(fill=BOTH)\n",
    "        data=self.extractstocks()\n",
    "        self.createbutton(data)\n",
    "        \n",
    "        def sel():\n",
    "            stocklist.destroy()\n",
    "        R=Button(master=stocklist, text=\"Back\",bd=4,bg='orange', command=sel,width=12,height=2)\n",
    "        R.pack()\n",
    "        stocklist.mainloop()\n",
    "        \n",
    "    def extractstocks(self):\n",
    "        data=pd.read_excel(self.filename)\n",
    "        return data['Codes']\n",
    "    \n",
    "    def createbutton(self,data):\n",
    "        scrollbar = Scrollbar(self.master)\n",
    "        scrollbar.pack( side = RIGHT, fill = BOTH )\n",
    "        \n",
    "        def onselect(evt):\n",
    "            w = evt.widget\n",
    "            index = int(w.curselection()[0])\n",
    "            value = w.get(index)\n",
    "            if(self.type==1):\n",
    "                s=analysis(\"NSE\",value)\n",
    "            else:\n",
    "                s=analysis(\"BSE\",value)\n",
    "            \n",
    "\n",
    "        mylist = Listbox(self.master, yscrollcommand = scrollbar.set )\n",
    "        for i in data:\n",
    "            s=i.split('/')[1]\n",
    "            mylist.insert(END,s)\n",
    "        mylist.pack(fill=Y)\n",
    "        scrollbar.config( command = mylist.yview )   \n",
    "        \n",
    "        mylist.bind('<<ListboxSelect>>', onselect)\n",
    "\n",
    "window=stockwindow(2)\n",
    "window"
   ]
  },
  {
   "cell_type": "code",
   "execution_count": null,
   "metadata": {},
   "outputs": [],
   "source": []
  }
 ],
 "metadata": {
  "kernelspec": {
   "display_name": "Python [default]",
   "language": "python",
   "name": "python3"
  },
  "language_info": {
   "codemirror_mode": {
    "name": "ipython",
    "version": 3
   },
   "file_extension": ".py",
   "mimetype": "text/x-python",
   "name": "python",
   "nbconvert_exporter": "python",
   "pygments_lexer": "ipython3",
   "version": "3.6.4"
  }
 },
 "nbformat": 4,
 "nbformat_minor": 2
}
