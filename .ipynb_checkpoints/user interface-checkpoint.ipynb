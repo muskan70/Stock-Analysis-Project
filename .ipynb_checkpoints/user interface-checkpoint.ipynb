{
 "cells": [
  {
   "cell_type": "code",
   "execution_count": 14,
   "metadata": {},
   "outputs": [],
   "source": [
    "import tkinter as tk\n",
    "from tkinter import *\n",
    "from file2 import stockwindow\n",
    "\n",
    "def stockproject():\n",
    "    def __init__(self):\n",
    "        root=tk.Tk()\n",
    "        self.master=root\n",
    "        root.title(\"Stocks Analysis And Prediction\")\n",
    "        root.geometry(\"300x300\")\n",
    "\n",
    "        def sel1():\n",
    "            root.destroy()\n",
    "            s=stockwindow(1)\n",
    "\n",
    "        def sel2():\n",
    "            root.destroy()\n",
    "            s=stockwindow(2)    \n",
    "    \n",
    "        R1 = Button(master=root, text=\"NSE Stocks\",bd=4,bg='orange', command=sel1,height=5)\n",
    "        R2 =Button(master=root, text=\"BSE Stocks\",bd=4,bg='orange', command=sel2,height=5)\n",
    "        R1.pack(fill=BOTH)\n",
    "        R2.pack(fill=BOTH)\n",
    "        R3 = Button(master=root, text=\"Quit\",bd=4,bg='orange', command=root.destroy(),height=5)\n",
    "        R3.pack(fill=BOTH)\n",
    "        root.mainloop()\n",
    "\n",
    "App=stockproject()\n",
    "App\n",
    "        "
   ]
  },
  {
   "cell_type": "code",
   "execution_count": 55,
   "metadata": {},
   "outputs": [],
   "source": []
  },
  {
   "cell_type": "code",
   "execution_count": null,
   "metadata": {},
   "outputs": [],
   "source": []
  },
  {
   "cell_type": "code",
   "execution_count": null,
   "metadata": {},
   "outputs": [],
   "source": []
  },
  {
   "cell_type": "code",
   "execution_count": null,
   "metadata": {},
   "outputs": [],
   "source": []
  },
  {
   "cell_type": "code",
   "execution_count": 56,
   "metadata": {},
   "outputs": [],
   "source": []
  }
 ],
 "metadata": {
  "kernelspec": {
   "display_name": "Python [default]",
   "language": "python",
   "name": "python3"
  },
  "language_info": {
   "codemirror_mode": {
    "name": "ipython",
    "version": 3
   },
   "file_extension": ".py",
   "mimetype": "text/x-python",
   "name": "python",
   "nbconvert_exporter": "python",
   "pygments_lexer": "ipython3",
   "version": "3.6.4"
  }
 },
 "nbformat": 4,
 "nbformat_minor": 2
}
