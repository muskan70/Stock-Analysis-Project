{
 "cells": [
  {
   "cell_type": "code",
   "execution_count": 40,
   "metadata": {},
   "outputs": [
    {
     "data": {
      "text/plain": [
       "<__main__.stockproject at 0x1fbab331f60>"
      ]
     },
     "execution_count": 40,
     "metadata": {},
     "output_type": "execute_result"
    }
   ],
   "source": [
    "import tkinter as tk\n",
    "from tkinter import *\n",
    "from file2 import stockwindow\n",
    "\n",
    "class stockproject:\n",
    "    def __init__(self):\n",
    "        root=tk.Tk()\n",
    "        self.master=root\n",
    "        root.title(\"Stocks Analysis And Prediction\")\n",
    "        root.geometry(\"300x300\")\n",
    "\n",
    "        def sel1():\n",
    "            root.destroy()\n",
    "            s=stockwindow(1)\n",
    "\n",
    "        def sel2():\n",
    "            root.destroy()\n",
    "            s=stockwindow(2)   \n",
    "            \n",
    "        def sel3():\n",
    "            root.destroy()    \n",
    "    \n",
    "        R1 = Button(master=root, text=\"NSE Stocks\",bd=4,bg='orange', command=sel1,width=12,height=3)\n",
    "        R2 =Button(master=root, text=\"BSE Stocks\",bd=4,bg='orange', command=sel2,width=12,height=3)\n",
    "        R1.place(x=100,y=20)\n",
    "        R2.place(x=100,y=100)\n",
    "        R3 = Button(master=root, text=\"Quit\",bd=4,bg='orange', command=sel3,width=12,height=3)\n",
    "        R3.place(x=100,y=180)\n",
    "        root.mainloop()\n",
    "\n",
    "App=stockproject()\n",
    "App\n",
    "        "
   ]
  },
  {
   "cell_type": "code",
   "execution_count": 55,
   "metadata": {},
   "outputs": [],
   "source": []
  },
  {
   "cell_type": "code",
   "execution_count": null,
   "metadata": {},
   "outputs": [],
   "source": []
  },
  {
   "cell_type": "code",
   "execution_count": null,
   "metadata": {},
   "outputs": [],
   "source": []
  },
  {
   "cell_type": "code",
   "execution_count": null,
   "metadata": {},
   "outputs": [],
   "source": []
  },
  {
   "cell_type": "code",
   "execution_count": 56,
   "metadata": {},
   "outputs": [],
   "source": []
  }
 ],
 "metadata": {
  "kernelspec": {
   "display_name": "Python [default]",
   "language": "python",
   "name": "python3"
  },
  "language_info": {
   "codemirror_mode": {
    "name": "ipython",
    "version": 3
   },
   "file_extension": ".py",
   "mimetype": "text/x-python",
   "name": "python",
   "nbconvert_exporter": "python",
   "pygments_lexer": "ipython3",
   "version": "3.6.4"
  }
 },
 "nbformat": 4,
 "nbformat_minor": 2
}
