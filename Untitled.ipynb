{
 "cells": [
  {
   "cell_type": "code",
   "execution_count": 12,
   "metadata": {},
   "outputs": [
    {
     "data": {
      "text/plain": [
       "<__main__.dailyreturns at 0x2289112c630>"
      ]
     },
     "execution_count": 12,
     "metadata": {},
     "output_type": "execute_result"
    }
   ],
   "source": [
    "import pandas as pd\n",
    "import numpy as np\n",
    "import tkinter as tk\n",
    "from tkinter import *\n",
    "import quandl\n",
    "import matplotlib\n",
    "matplotlib.use(\"TkAgg\")\n",
    "from matplotlib.backends.backend_tkagg import FigureCanvasTkAgg, NavigationToolbar2TkAgg\n",
    "from matplotlib.figure import Figure\n",
    "\n",
    "\n",
    "\n",
    "class dailyreturns:\n",
    "    def __init__(self,sname,data):\n",
    "        self.sname=sname\n",
    "        self.data=data\n",
    "        root=tk.Tk()\n",
    "        self.master=root\n",
    "        root.title(\"graph of Stock\")\n",
    "        root.geometry(\"500x600\")\n",
    "        self.plotgraph()\n",
    "        root.mainloop()\n",
    "    \n",
    "    def plotgraph1(self,a):\n",
    "        dr=(self.data/self.data.shift(1))-1\n",
    "        dr[0]=0\n",
    "        mean=dr.mean()\n",
    "        std=dr.std()\n",
    "        a.hist(dr,bins=50)\n",
    "        a.axvline(mean,color='w',linestyle='dashed')\n",
    "        a.axvline(std,color='w',linestyle='dashed')\n",
    "        a.axvline(-std,color='w',linestyle='dashed')\n",
    "        a.set_title(self.sname)    \n",
    "   \n",
    "    def plotgraph(self):\n",
    "        f = Figure(figsize=(5,5), dpi=100)\n",
    "        a = f.add_subplot(111)\n",
    "        self.plotgraph1(a)\n",
    "        canvas = FigureCanvasTkAgg(f, self.master)\n",
    "        canvas.show()\n",
    "        canvas.get_tk_widget().pack(side=BOTTOM, fill=BOTH, expand=True)\n",
    "\n",
    "        toolbar = NavigationToolbar2TkAgg(canvas, self.master)\n",
    "        toolbar.update()\n",
    "        canvas._tkcanvas.pack(fill=BOTH)\n",
    "\n",
    "quandl.ApiConfig.api_key = \"jXPHrf-GmUoyAdmhjcxF\"\n",
    "url=\"NSE/\"+\"AARTIDRUGS\"\n",
    "data = quandl.get(url)  \n",
    "window=dailyreturns(\"AARTIDRUGS\",data['Open'])\n",
    "window"
   ]
  },
  {
   "cell_type": "code",
   "execution_count": null,
   "metadata": {},
   "outputs": [],
   "source": []
  }
 ],
 "metadata": {
  "kernelspec": {
   "display_name": "Python [default]",
   "language": "python",
   "name": "python3"
  },
  "language_info": {
   "codemirror_mode": {
    "name": "ipython",
    "version": 3
   },
   "file_extension": ".py",
   "mimetype": "text/x-python",
   "name": "python",
   "nbconvert_exporter": "python",
   "pygments_lexer": "ipython3",
   "version": "3.6.4"
  }
 },
 "nbformat": 4,
 "nbformat_minor": 2
}
